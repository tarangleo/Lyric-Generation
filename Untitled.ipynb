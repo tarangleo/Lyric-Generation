{
 "cells": [
  {
   "cell_type": "code",
   "execution_count": 6,
   "id": "5ca45075-c985-4dc6-9816-75a2574e9d85",
   "metadata": {},
   "outputs": [],
   "source": [
    "txt=\"My name is Tarang. What about you. What is your name\""
   ]
  },
  {
   "cell_type": "code",
   "execution_count": 194,
   "id": "3bf8c4f4-aa97-4aa3-b3c9-12d222085ee5",
   "metadata": {},
   "outputs": [],
   "source": [
    "f = open('Apna Time Aayega.txt','r')"
   ]
  },
  {
   "cell_type": "code",
   "execution_count": 195,
   "id": "f89a29cd-8ae5-407a-978f-f9f4a1b55e19",
   "metadata": {},
   "outputs": [],
   "source": [
    "txt=f.read()"
   ]
  },
  {
   "cell_type": "code",
   "execution_count": 196,
   "id": "a2efc80f-b74f-4a46-a4f9-c0b63c123622",
   "metadata": {},
   "outputs": [],
   "source": [
    "# txt=txt.replace(\"\\n\",\" \")\n",
    "txt=txt.replace(\"x (2)\",\"\\napna time aayega\")\n",
    "txt=txt.replace(\"â€™\",\"ae\")"
   ]
  },
  {
   "cell_type": "code",
   "execution_count": 197,
   "id": "840e718d-3f0a-4ef7-a578-c4dbcdad74ad",
   "metadata": {},
   "outputs": [],
   "source": [
    "txt=txt.lower()"
   ]
  },
  {
   "cell_type": "code",
   "execution_count": 198,
   "id": "4f75c5ec-5584-4a9f-9099-b628a3de7721",
   "metadata": {},
   "outputs": [
    {
     "data": {
      "text/plain": [
       "'apna time aayega\\nuth ja apni raakh se\\ntu udd ja ab talaash mein\\nparwaaz dekh parwane ki\\naasman bhi sar uthayega\\naayega apna time aayega\\nmere jaisa shaana lala\\ntujhe na mil payega\\n \\nyeh shabdon ka jwala\\nmeri bediyan pighlayega\\njitna toone boya hai tu\\nutna hi to khaayega\\naisa mera khwaab hai\\njo darr ko bhi satayega\\nzinda mera khwaab\\nab kaise tu dafnayega\\n \\nab hausle se jeene de\\nab khauf nahi hai seene mein\\nhar raaste ko cheerenge\\nhum kaamyabi chheenenge\\nsab kuchh mila paseene se\\nmatlab bana ab jeene mein\\n \\nkyon\\nkyon ki apna time aayega\\n \\ntu nanga hi to aaya hai\\nkya ghanta lekar jaayega\\napna time aayega\\napna time aayega\\napna time aayega \\napna time aayega\\n \\ntu nanga hi to aaya hai\\nkya ghanta lekar..\\n \\nkissi ka hath nahi tha sar par\\nyahaan par aaya khud ki mehnat se main\\njitni taakat kismat mein nahi\\nutni rehmat mein hai\\nphir bhi ladka sehmat nahin hai\\nkyon ki hairat nahi hai\\nzaroorat yahaan marzi ki\\naur jurrat ki hai\\n \\ntaakat ki hai, aafat ki\\nhimaakat ki, ibaadat ki\\nadalat yeh hai chahat ki\\nmohobbat ki, amaanat ki\\njeetne ki ab aadat ki hai\\nshohrat ki ab laalach nai hai\\ntere bhai jaisa koyi hardaech nai hai\\n \\niss harkat ne hi barkat di hai\\nkyon?\\n \\ntu nanga hi to aaya hai\\nkya ghanta lekar jaayega\\napna time aayega\\napna time aayega\\napna time aayega\\n \\ntu nanga hi to aaya hai\\nkya ghanta lekar jaayega\\nkya tu ghanta lekar jaayega\\napna time aayega\\napna time aayega'"
      ]
     },
     "execution_count": 198,
     "metadata": {},
     "output_type": "execute_result"
    }
   ],
   "source": [
    "txt"
   ]
  },
  {
   "cell_type": "code",
   "execution_count": 199,
   "id": "6d86f14f-bc48-4770-bb1b-0b8046c80fc1",
   "metadata": {},
   "outputs": [],
   "source": [
    "def predictor(k,text):\n",
    "    for i in range(len(text[k:])):\n",
    "        x=text[i:i+k]\n",
    "        y=text[i+k]  "
   ]
  },
  {
   "cell_type": "code",
   "execution_count": null,
   "id": "4fcc4eff-8e06-4e11-981f-0c2c40f9c42e",
   "metadata": {},
   "outputs": [],
   "source": []
  },
  {
   "cell_type": "code",
   "execution_count": 200,
   "id": "6654dc25-a887-48d8-a5b9-792fe7756b57",
   "metadata": {},
   "outputs": [],
   "source": [
    "predictor(3,txt)"
   ]
  },
  {
   "cell_type": "code",
   "execution_count": 201,
   "id": "1c91e29b-5361-4770-97e9-1070f97e6772",
   "metadata": {},
   "outputs": [],
   "source": [
    "def dict_text(k,text)->dict:\n",
    "    t={}\n",
    "    for i in range(len(text[k:])):\n",
    "        x=text[i:i+k]\n",
    "        y=text[i+k]\n",
    "        \n",
    "        if x not in t.keys():\n",
    "            t[x]={y:1}\n",
    "        elif y not in t[x].keys():\n",
    "            t[x][y]=1\n",
    "        else:\n",
    "            t[x][y]+=1\n",
    "    return t\n",
    "    "
   ]
  },
  {
   "cell_type": "code",
   "execution_count": 202,
   "id": "78593dcf-755f-4609-8dc8-9f1556678af2",
   "metadata": {},
   "outputs": [],
   "source": [
    "d=dict_text(4,txt)"
   ]
  },
  {
   "cell_type": "code",
   "execution_count": 203,
   "id": "610c2081-691f-43b6-9618-4cbb7ba0de71",
   "metadata": {},
   "outputs": [],
   "source": [
    "def probab(d):\n",
    "    for x in d.values():\n",
    "        \n",
    "        s=sum(x.values())\n",
    "        for key,value in x.items():\n",
    "            x[key]=value/s"
   ]
  },
  {
   "cell_type": "raw",
   "id": "e1f18e31-6fa7-4e70-b7da-0156fe3710d3",
   "metadata": {},
   "source": []
  },
  {
   "cell_type": "code",
   "execution_count": 204,
   "id": "b687e397-d6d8-4bde-b838-965fbbf051ab",
   "metadata": {},
   "outputs": [],
   "source": [
    "probab(d)"
   ]
  },
  {
   "cell_type": "code",
   "execution_count": 205,
   "id": "19738783-005c-44a6-92da-c44a580dc8da",
   "metadata": {},
   "outputs": [],
   "source": [
    "import numpy as np"
   ]
  },
  {
   "cell_type": "code",
   "execution_count": 219,
   "id": "0f697509-ebcb-419c-8359-03bca50cff04",
   "metadata": {},
   "outputs": [],
   "source": [
    "def predict_letter(k_word,d):\n",
    "    l=[]\n",
    "    p1=[]\n",
    "    for key,value in d[k_word].items():\n",
    "        l.append(key)\n",
    "        p1.append(value)\n",
    "    \n",
    "    n_l=np.random.choice(l,p=p1)\n",
    "    return n_l\n",
    "        \n",
    "    "
   ]
  },
  {
   "cell_type": "code",
   "execution_count": null,
   "id": "d62493a6-934d-4881-b27f-b761766ebb44",
   "metadata": {},
   "outputs": [],
   "source": []
  },
  {
   "cell_type": "code",
   "execution_count": 220,
   "id": "d7eec014-de18-4f90-a6a6-59aaf8e64640",
   "metadata": {},
   "outputs": [
    {
     "data": {
      "text/plain": [
       "' '"
      ]
     },
     "execution_count": 220,
     "metadata": {},
     "output_type": "execute_result"
    }
   ],
   "source": [
    "predict_letter(\"apna\",d)"
   ]
  },
  {
   "cell_type": "code",
   "execution_count": null,
   "id": "f31fa927-9160-4b0f-b786-ba9f430655c2",
   "metadata": {},
   "outputs": [],
   "source": []
  },
  {
   "cell_type": "code",
   "execution_count": null,
   "id": "a6b6552e-313a-41cf-a1b3-dc673a91e648",
   "metadata": {},
   "outputs": [],
   "source": []
  },
  {
   "cell_type": "code",
   "execution_count": 221,
   "id": "53dd2fb0-98bb-4aec-bf06-4ea13ee6099f",
   "metadata": {},
   "outputs": [],
   "source": [
    "def pred_txt(k_word,d,k,n_words=2000):\n",
    "    sent=k_word\n",
    "    np.random.seed(11)\n",
    "    for i in range(n_words):\n",
    "        sent+=predict_letter(sent[-k:],d)\n",
    "    return sent"
   ]
  },
  {
   "cell_type": "code",
   "execution_count": 222,
   "id": "4dc72010-d489-4f74-8463-64cea59bbfc8",
   "metadata": {},
   "outputs": [],
   "source": [
    "a=pred_txt(\"apna\",d,4)"
   ]
  },
  {
   "cell_type": "code",
   "execution_count": 223,
   "id": "1d05725d-b455-41b9-9202-55993c8b93ce",
   "metadata": {},
   "outputs": [],
   "source": [
    "text_file = open(\"Output.txt\", \"w\")\n",
    "\n",
    "text_file.write(a)\n",
    "\n",
    "text_file.close()"
   ]
  },
  {
   "cell_type": "code",
   "execution_count": null,
   "id": "b7f8903b-0842-463d-99eb-03b0c7913a65",
   "metadata": {},
   "outputs": [],
   "source": [
    "# d"
   ]
  },
  {
   "cell_type": "code",
   "execution_count": null,
   "id": "ec2f5126-49f8-475f-a4c4-14b1eb38db40",
   "metadata": {},
   "outputs": [],
   "source": []
  }
 ],
 "metadata": {
  "kernelspec": {
   "display_name": "Python 3 (ipykernel)",
   "language": "python",
   "name": "python3"
  },
  "language_info": {
   "codemirror_mode": {
    "name": "ipython",
    "version": 3
   },
   "file_extension": ".py",
   "mimetype": "text/x-python",
   "name": "python",
   "nbconvert_exporter": "python",
   "pygments_lexer": "ipython3",
   "version": "3.9.7"
  }
 },
 "nbformat": 4,
 "nbformat_minor": 5
}
